{
 "cells": [
  {
   "cell_type": "code",
   "execution_count": 1,
   "metadata": {},
   "outputs": [],
   "source": [
    "import pandas as pd\n",
    "import numpy as np\n",
    "import matplotlib.pyplot as plt\n",
    "import re\n",
    "from matplotlib.ticker import PercentFormatter\n",
    "import seaborn as sns"
   ]
  },
  {
   "cell_type": "code",
   "execution_count": 2,
   "metadata": {},
   "outputs": [],
   "source": [
    "dataset = pd.read_csv(\n",
    "    'https://archive.ics.uci.edu/ml/machine-learning-databases/mushroom/agaricus-lepiota.data', \n",
    "    sep=',', \n",
    "    header=None\n",
    ")"
   ]
  },
  {
   "cell_type": "code",
   "execution_count": 3,
   "metadata": {},
   "outputs": [
    {
     "data": {
      "text/html": [
       "<div>\n",
       "<style scoped>\n",
       "    .dataframe tbody tr th:only-of-type {\n",
       "        vertical-align: middle;\n",
       "    }\n",
       "\n",
       "    .dataframe tbody tr th {\n",
       "        vertical-align: top;\n",
       "    }\n",
       "\n",
       "    .dataframe thead th {\n",
       "        text-align: right;\n",
       "    }\n",
       "</style>\n",
       "<table border=\"1\" class=\"dataframe\">\n",
       "  <thead>\n",
       "    <tr style=\"text-align: right;\">\n",
       "      <th></th>\n",
       "      <th>0</th>\n",
       "      <th>1</th>\n",
       "      <th>2</th>\n",
       "      <th>3</th>\n",
       "      <th>4</th>\n",
       "      <th>5</th>\n",
       "      <th>6</th>\n",
       "      <th>7</th>\n",
       "      <th>8</th>\n",
       "      <th>9</th>\n",
       "      <th>...</th>\n",
       "      <th>13</th>\n",
       "      <th>14</th>\n",
       "      <th>15</th>\n",
       "      <th>16</th>\n",
       "      <th>17</th>\n",
       "      <th>18</th>\n",
       "      <th>19</th>\n",
       "      <th>20</th>\n",
       "      <th>21</th>\n",
       "      <th>22</th>\n",
       "    </tr>\n",
       "  </thead>\n",
       "  <tbody>\n",
       "    <tr>\n",
       "      <th>0</th>\n",
       "      <td>p</td>\n",
       "      <td>x</td>\n",
       "      <td>s</td>\n",
       "      <td>n</td>\n",
       "      <td>t</td>\n",
       "      <td>p</td>\n",
       "      <td>f</td>\n",
       "      <td>c</td>\n",
       "      <td>n</td>\n",
       "      <td>k</td>\n",
       "      <td>...</td>\n",
       "      <td>s</td>\n",
       "      <td>w</td>\n",
       "      <td>w</td>\n",
       "      <td>p</td>\n",
       "      <td>w</td>\n",
       "      <td>o</td>\n",
       "      <td>p</td>\n",
       "      <td>k</td>\n",
       "      <td>s</td>\n",
       "      <td>u</td>\n",
       "    </tr>\n",
       "    <tr>\n",
       "      <th>1</th>\n",
       "      <td>e</td>\n",
       "      <td>x</td>\n",
       "      <td>s</td>\n",
       "      <td>y</td>\n",
       "      <td>t</td>\n",
       "      <td>a</td>\n",
       "      <td>f</td>\n",
       "      <td>c</td>\n",
       "      <td>b</td>\n",
       "      <td>k</td>\n",
       "      <td>...</td>\n",
       "      <td>s</td>\n",
       "      <td>w</td>\n",
       "      <td>w</td>\n",
       "      <td>p</td>\n",
       "      <td>w</td>\n",
       "      <td>o</td>\n",
       "      <td>p</td>\n",
       "      <td>n</td>\n",
       "      <td>n</td>\n",
       "      <td>g</td>\n",
       "    </tr>\n",
       "    <tr>\n",
       "      <th>2</th>\n",
       "      <td>e</td>\n",
       "      <td>b</td>\n",
       "      <td>s</td>\n",
       "      <td>w</td>\n",
       "      <td>t</td>\n",
       "      <td>l</td>\n",
       "      <td>f</td>\n",
       "      <td>c</td>\n",
       "      <td>b</td>\n",
       "      <td>n</td>\n",
       "      <td>...</td>\n",
       "      <td>s</td>\n",
       "      <td>w</td>\n",
       "      <td>w</td>\n",
       "      <td>p</td>\n",
       "      <td>w</td>\n",
       "      <td>o</td>\n",
       "      <td>p</td>\n",
       "      <td>n</td>\n",
       "      <td>n</td>\n",
       "      <td>m</td>\n",
       "    </tr>\n",
       "    <tr>\n",
       "      <th>3</th>\n",
       "      <td>p</td>\n",
       "      <td>x</td>\n",
       "      <td>y</td>\n",
       "      <td>w</td>\n",
       "      <td>t</td>\n",
       "      <td>p</td>\n",
       "      <td>f</td>\n",
       "      <td>c</td>\n",
       "      <td>n</td>\n",
       "      <td>n</td>\n",
       "      <td>...</td>\n",
       "      <td>s</td>\n",
       "      <td>w</td>\n",
       "      <td>w</td>\n",
       "      <td>p</td>\n",
       "      <td>w</td>\n",
       "      <td>o</td>\n",
       "      <td>p</td>\n",
       "      <td>k</td>\n",
       "      <td>s</td>\n",
       "      <td>u</td>\n",
       "    </tr>\n",
       "    <tr>\n",
       "      <th>4</th>\n",
       "      <td>e</td>\n",
       "      <td>x</td>\n",
       "      <td>s</td>\n",
       "      <td>g</td>\n",
       "      <td>f</td>\n",
       "      <td>n</td>\n",
       "      <td>f</td>\n",
       "      <td>w</td>\n",
       "      <td>b</td>\n",
       "      <td>k</td>\n",
       "      <td>...</td>\n",
       "      <td>s</td>\n",
       "      <td>w</td>\n",
       "      <td>w</td>\n",
       "      <td>p</td>\n",
       "      <td>w</td>\n",
       "      <td>o</td>\n",
       "      <td>e</td>\n",
       "      <td>n</td>\n",
       "      <td>a</td>\n",
       "      <td>g</td>\n",
       "    </tr>\n",
       "  </tbody>\n",
       "</table>\n",
       "<p>5 rows × 23 columns</p>\n",
       "</div>"
      ],
      "text/plain": [
       "  0  1  2  3  4  5  6  7  8  9   ... 13 14 15 16 17 18 19 20 21 22\n",
       "0  p  x  s  n  t  p  f  c  n  k  ...  s  w  w  p  w  o  p  k  s  u\n",
       "1  e  x  s  y  t  a  f  c  b  k  ...  s  w  w  p  w  o  p  n  n  g\n",
       "2  e  b  s  w  t  l  f  c  b  n  ...  s  w  w  p  w  o  p  n  n  m\n",
       "3  p  x  y  w  t  p  f  c  n  n  ...  s  w  w  p  w  o  p  k  s  u\n",
       "4  e  x  s  g  f  n  f  w  b  k  ...  s  w  w  p  w  o  e  n  a  g\n",
       "\n",
       "[5 rows x 23 columns]"
      ]
     },
     "execution_count": 3,
     "metadata": {},
     "output_type": "execute_result"
    }
   ],
   "source": [
    "dataset.head(5)"
   ]
  },
  {
   "cell_type": "markdown",
   "metadata": {},
   "source": [
    "The goal of this project is to build a classification algorithm that predicts whether a mushroom is edible or poisonous and therefore not edible. If edible = 0 and poisonous = 1, then because a false negative (predicted as 0 or edible but was supposed to be 1 or poisonous) is much more detrimental than a false positive (predicted as 1 or poisonous but instead was 0 or edible), we can first build a model and then work on changing a threshold that will maximize sensitivity, which is how well the model predicts true positives. The better it predicts the poisonous mushrooms to be poisonous, the better. "
   ]
  },
  {
   "cell_type": "markdown",
   "metadata": {},
   "source": [
    "# Section 1: Data Preparation"
   ]
  },
  {
   "cell_type": "markdown",
   "metadata": {},
   "source": [
    "# Step 1: Data labeling "
   ]
  },
  {
   "cell_type": "markdown",
   "metadata": {},
   "source": [
    "Because the current data have neither have a column header nor the dictionary that suggest what each value in a cell mean, we do not have any information as to what this dataset is about. Therefore, the natural first step to take is to label the data appropriately. "
   ]
  },
  {
   "cell_type": "markdown",
   "metadata": {},
   "source": [
    "Labeling of the data can be found within the same folder the dataset was found in. The relevant information is found in https://archive.ics.uci.edu/ml/machine-learning-databases/mushroom/agaricus-lepiota.names in the form of a write-up. Because it is in the form of a write up, I will first save the file as a txt file, and then data mine the relevant information by reading it into Python as a txt file via regular expressions."
   ]
  },
  {
   "cell_type": "code",
   "execution_count": 4,
   "metadata": {},
   "outputs": [],
   "source": [
    "# Importing the information document into Python to mine data from\n",
    "\n",
    "with open(r\"C:\\Users\\taked\\Desktop\\DataScience Projects\\Non-Kaggle Datasets\\UCI_Mushroom\\agaricus-lepiota.names.txt\",'r') as txt:\n",
    "    file_content = [line.rstrip(\"\\n\").lstrip(\"\\t\") for line in txt] # Reads in txt, cleans each line, and stores each line in a list\n",
    "    cleaned_file_content = [line for line in file_content if line != ''] # Filters out '' found in file_content, which originally signified \n",
    "                                                                         # empty lines\n",
    "    "
   ]
  },
  {
   "cell_type": "code",
   "execution_count": 5,
   "metadata": {},
   "outputs": [
    {
     "data": {
      "text/plain": [
       "['1. Title: Mushroom Database',\n",
       " '2. Sources: ',\n",
       " '    (a) Mushroom records drawn from The Audubon Society Field Guide to North',\n",
       " '        American Mushrooms (1981). G. H. Lincoff (Pres.), New York: Alfred',\n",
       " '        A. Knopf',\n",
       " '    (b) Donor: Jeff Schlimmer (Jeffrey.Schlimmer@a.gp.cs.cmu.edu)',\n",
       " '    (c) Date: 27 April 1987',\n",
       " '3. Past Usage:',\n",
       " '    1. Schlimmer,J.S. (1987). Concept Acquisition Through Representational',\n",
       " '       Adjustment (Technical Report 87-19).  Doctoral disseration, Department',\n",
       " '       of Information and Computer Science, University of California, Irvine.',\n",
       " '       --- STAGGER: asymptoted to 95% classification accuracy after reviewing',\n",
       " '           1000 instances.',\n",
       " '    2. Iba,W., Wogulis,J., & Langley,P. (1988).  Trading off Simplicity',\n",
       " '       and Coverage in Incremental Concept Learning. In Proceedings of ',\n",
       " '       the 5th International Conference on Machine Learning, 73-79.',\n",
       " '       Ann Arbor, Michigan: Morgan Kaufmann.  ',\n",
       " '       -- approximately the same results with their HILLARY algorithm    ',\n",
       " '    3. In the following references a set of rules (given below) were',\n",
       " 'learned for this data set which may serve as a point of',\n",
       " 'comparison for other researchers.',\n",
       " 'Duch W, Adamczak R, Grabczewski K (1996) Extraction of logical rules',\n",
       " 'from training data using backpropagation networks, in: Proc. of the',\n",
       " 'The 1st Online Workshop on Soft Computing, 19-30.Aug.1996, pp. 25-30,',\n",
       " 'available on-line at: http://www.bioele.nuee.nagoya-u.ac.jp/wsc1/',\n",
       " 'Duch W, Adamczak R, Grabczewski K, Ishikawa M, Ueda H, Extraction of',\n",
       " 'crisp logical rules using constrained backpropagation networks -',\n",
       " 'comparison of two new approaches, in: Proc. of the European Symposium',\n",
       " \"on Artificial Neural Networks (ESANN'97), Bruge, Belgium 16-18.4.1997,\",\n",
       " 'pp. xx-xx',\n",
       " 'Wlodzislaw Duch, Department of Computer Methods, Nicholas Copernicus',\n",
       " 'University, 87-100 Torun, Grudziadzka 5, Poland',\n",
       " 'e-mail: duch@phys.uni.torun.pl',\n",
       " 'WWW     http://www.phys.uni.torun.pl/kmk/',\n",
       " 'Date: Mon, 17 Feb 1997 13:47:40 +0100',\n",
       " 'From: Wlodzislaw Duch <duch@phys.uni.torun.pl>',\n",
       " 'Organization: Dept. of Computer Methods, UMK',\n",
       " 'I have attached a file containing logical rules for mushrooms.',\n",
       " 'It should be helpful for other people since only in the last year I',\n",
       " 'have seen about 10 papers analyzing this dataset and obtaining quite',\n",
       " 'complex rules. We will try to contribute other results later.',\n",
       " 'With best regards, Wlodek Duch',\n",
       " '________________________________________________________________',\n",
       " 'Logical rules for the mushroom data sets.',\n",
       " 'Logical rules given below seem to be the simplest possible for the',\n",
       " 'mushroom dataset and therefore should be treated as benchmark results.',\n",
       " 'Disjunctive rules for poisonous mushrooms, from most general',\n",
       " 'to most specific:',\n",
       " 'P_1) odor=NOT(almond.OR.anise.OR.none)',\n",
       " '     120 poisonous cases missed, 98.52% accuracy',\n",
       " 'P_2) spore-print-color=green',\n",
       " '     48 cases missed, 99.41% accuracy',\n",
       " '         ',\n",
       " 'P_3) odor=none.AND.stalk-surface-below-ring=scaly.AND.',\n",
       " '          (stalk-color-above-ring=NOT.brown) ',\n",
       " '     8 cases missed, 99.90% accuracy',\n",
       " '         ',\n",
       " 'P_4) habitat=leaves.AND.cap-color=white',\n",
       " '         100% accuracy     ',\n",
       " 'Rule P_4) may also be',\n",
       " \"P_4') population=clustered.AND.cap_color=white\",\n",
       " 'These rule involve 6 attributes (out of 22). Rules for edible',\n",
       " 'mushrooms are obtained as negation of the rules given above, for',\n",
       " 'example the rule:',\n",
       " 'odor=(almond.OR.anise.OR.none).AND.spore-print-color=NOT.green',\n",
       " 'gives 48 errors, or 99.41% accuracy on the whole dataset.',\n",
       " 'Several slightly more complex variations on these rules exist,',\n",
       " 'involving other attributes, such as gill_size, gill_spacing,',\n",
       " 'stalk_surface_above_ring, but the rules given above are the simplest',\n",
       " 'we have found.',\n",
       " '4. Relevant Information:',\n",
       " '    This data set includes descriptions of hypothetical samples',\n",
       " '    corresponding to 23 species of gilled mushrooms in the Agaricus and',\n",
       " '    Lepiota Family (pp. 500-525).  Each species is identified as',\n",
       " '    definitely edible, definitely poisonous, or of unknown edibility and',\n",
       " '    not recommended.  This latter class was combined with the poisonous',\n",
       " '    one.  The Guide clearly states that there is no simple rule for',\n",
       " '    determining the edibility of a mushroom; no rule like ``leaflets',\n",
       " \"    three, let it be'' for Poisonous Oak and Ivy.\",\n",
       " '5. Number of Instances: 8124',\n",
       " '6. Number of Attributes: 22 (all nominally valued)',\n",
       " '7. Attribute Information: (classes: edible=e, poisonous=p)',\n",
       " '     1. cap-shape:                bell=b,conical=c,convex=x,flat=f,',\n",
       " '                                  knobbed=k,sunken=s',\n",
       " '     2. cap-surface:              fibrous=f,grooves=g,scaly=y,smooth=s',\n",
       " '     3. cap-color:                brown=n,buff=b,cinnamon=c,gray=g,green=r,',\n",
       " '                                  pink=p,purple=u,red=e,white=w,yellow=y',\n",
       " '     4. bruises?:                 bruises=t,no=f',\n",
       " '     5. odor:                     almond=a,anise=l,creosote=c,fishy=y,foul=f,',\n",
       " '                                  musty=m,none=n,pungent=p,spicy=s',\n",
       " '     6. gill-attachment:          attached=a,descending=d,free=f,notched=n',\n",
       " '     7. gill-spacing:             close=c,crowded=w,distant=d',\n",
       " '     8. gill-size:                broad=b,narrow=n',\n",
       " '     9. gill-color:               black=k,brown=n,buff=b,chocolate=h,gray=g,',\n",
       " '                                  green=r,orange=o,pink=p,purple=u,red=e,',\n",
       " '                                  white=w,yellow=y',\n",
       " '    10. stalk-shape:              enlarging=e,tapering=t',\n",
       " '    11. stalk-root:               bulbous=b,club=c,cup=u,equal=e,',\n",
       " '                                  rhizomorphs=z,rooted=r,missing=?',\n",
       " '    12. stalk-surface-above-ring: fibrous=f,scaly=y,silky=k,smooth=s',\n",
       " '    13. stalk-surface-below-ring: fibrous=f,scaly=y,silky=k,smooth=s',\n",
       " '    14. stalk-color-above-ring:   brown=n,buff=b,cinnamon=c,gray=g,orange=o,',\n",
       " '                                  pink=p,red=e,white=w,yellow=y',\n",
       " '    15. stalk-color-below-ring:   brown=n,buff=b,cinnamon=c,gray=g,orange=o,',\n",
       " '                                  pink=p,red=e,white=w,yellow=y',\n",
       " '    16. veil-type:                partial=p,universal=u',\n",
       " '    17. veil-color:               brown=n,orange=o,white=w,yellow=y',\n",
       " '    18. ring-number:              none=n,one=o,two=t',\n",
       " '    19. ring-type:                cobwebby=c,evanescent=e,flaring=f,large=l,',\n",
       " '                                  none=n,pendant=p,sheathing=s,zone=z',\n",
       " '    20. spore-print-color:        black=k,brown=n,buff=b,chocolate=h,green=r,',\n",
       " '                                  orange=o,purple=u,white=w,yellow=y',\n",
       " '    21. population:               abundant=a,clustered=c,numerous=n,',\n",
       " '                                  scattered=s,several=v,solitary=y',\n",
       " '    22. habitat:                  grasses=g,leaves=l,meadows=m,paths=p,',\n",
       " '                                  urban=u,waste=w,woods=d',\n",
       " '8. Missing Attribute Values: 2480 of them (denoted by \"?\"), all for',\n",
       " '   attribute #11.',\n",
       " '9. Class Distribution: ',\n",
       " '    --    edible: 4208 (51.8%)',\n",
       " '    -- poisonous: 3916 (48.2%)',\n",
       " '    --     total: 8124 instances']"
      ]
     },
     "execution_count": 5,
     "metadata": {},
     "output_type": "execute_result"
    }
   ],
   "source": [
    "# What the cleaned version of the txt file looks like in a list. Relevant information will be mined from here\n",
    "cleaned_file_content"
   ]
  },
  {
   "cell_type": "markdown",
   "metadata": {},
   "source": [
    "From reading this, many useful information about the dataset is learned. For example, we learned the distribution of our dependent variable for this study, edible vs poisonous. The information of our interest in the context of labeling our dataset is found in section 7, titled Attribute Information. Information will be scraped from this section. "
   ]
  },
  {
   "cell_type": "markdown",
   "metadata": {},
   "source": [
    "# Step 1 Part 1: Data mining"
   ]
  },
  {
   "cell_type": "code",
   "execution_count": 6,
   "metadata": {},
   "outputs": [],
   "source": [
    "# Scraping the section of the text file that contains the relevant information. The label information is in the Attribute Information section.\n",
    "\n",
    "for line in cleaned_file_content:\n",
    "    if \"Attribute Information:\" in line:\n",
    "        start_index = cleaned_file_content.index(line)\n",
    "    if \"Missing Attribute Values:\" in line:\n",
    "        end_index = cleaned_file_content.index(line)\n",
    "        \n",
    "label_section = cleaned_file_content[start_index:end_index]"
   ]
  },
  {
   "cell_type": "code",
   "execution_count": 7,
   "metadata": {},
   "outputs": [
    {
     "data": {
      "text/plain": [
       "['7. Attribute Information: (classes: edible=e, poisonous=p)',\n",
       " '     1. cap-shape:                bell=b,conical=c,convex=x,flat=f,',\n",
       " '                                  knobbed=k,sunken=s',\n",
       " '     2. cap-surface:              fibrous=f,grooves=g,scaly=y,smooth=s',\n",
       " '     3. cap-color:                brown=n,buff=b,cinnamon=c,gray=g,green=r,',\n",
       " '                                  pink=p,purple=u,red=e,white=w,yellow=y',\n",
       " '     4. bruises?:                 bruises=t,no=f',\n",
       " '     5. odor:                     almond=a,anise=l,creosote=c,fishy=y,foul=f,',\n",
       " '                                  musty=m,none=n,pungent=p,spicy=s',\n",
       " '     6. gill-attachment:          attached=a,descending=d,free=f,notched=n',\n",
       " '     7. gill-spacing:             close=c,crowded=w,distant=d',\n",
       " '     8. gill-size:                broad=b,narrow=n',\n",
       " '     9. gill-color:               black=k,brown=n,buff=b,chocolate=h,gray=g,',\n",
       " '                                  green=r,orange=o,pink=p,purple=u,red=e,',\n",
       " '                                  white=w,yellow=y',\n",
       " '    10. stalk-shape:              enlarging=e,tapering=t',\n",
       " '    11. stalk-root:               bulbous=b,club=c,cup=u,equal=e,',\n",
       " '                                  rhizomorphs=z,rooted=r,missing=?',\n",
       " '    12. stalk-surface-above-ring: fibrous=f,scaly=y,silky=k,smooth=s',\n",
       " '    13. stalk-surface-below-ring: fibrous=f,scaly=y,silky=k,smooth=s',\n",
       " '    14. stalk-color-above-ring:   brown=n,buff=b,cinnamon=c,gray=g,orange=o,',\n",
       " '                                  pink=p,red=e,white=w,yellow=y',\n",
       " '    15. stalk-color-below-ring:   brown=n,buff=b,cinnamon=c,gray=g,orange=o,',\n",
       " '                                  pink=p,red=e,white=w,yellow=y',\n",
       " '    16. veil-type:                partial=p,universal=u',\n",
       " '    17. veil-color:               brown=n,orange=o,white=w,yellow=y',\n",
       " '    18. ring-number:              none=n,one=o,two=t',\n",
       " '    19. ring-type:                cobwebby=c,evanescent=e,flaring=f,large=l,',\n",
       " '                                  none=n,pendant=p,sheathing=s,zone=z',\n",
       " '    20. spore-print-color:        black=k,brown=n,buff=b,chocolate=h,green=r,',\n",
       " '                                  orange=o,purple=u,white=w,yellow=y',\n",
       " '    21. population:               abundant=a,clustered=c,numerous=n,',\n",
       " '                                  scattered=s,several=v,solitary=y',\n",
       " '    22. habitat:                  grasses=g,leaves=l,meadows=m,paths=p,',\n",
       " '                                  urban=u,waste=w,woods=d']"
      ]
     },
     "execution_count": 7,
     "metadata": {},
     "output_type": "execute_result"
    }
   ],
   "source": [
    "label_section"
   ]
  },
  {
   "cell_type": "markdown",
   "metadata": {},
   "source": [
    "Plan: for every column, store the label values in a dictionary. The RHS of the equation will be the key and LHS will be its respective value in the dictionary. Then, can call series.replace to replace the cells on the dataframe, which are also the keys of the dictionary, will be replaced with the dictionary values. This will be done by storing each dictionary into a list, and iterating a for-loop to apply the dictionary contents to the dataframe using series.repalce. For labeling the columns with the respective column names, can scrape the column names and store them into a list in order, and then apply them to columns."
   ]
  },
  {
   "cell_type": "code",
   "execution_count": 8,
   "metadata": {},
   "outputs": [],
   "source": [
    "# Remove extra white space and store new label section into a list\n",
    "cleaned_label_section = []\n",
    "for line in label_section:\n",
    "    cleaned_label_section.append(' '.join(line.split()))\n"
   ]
  },
  {
   "cell_type": "code",
   "execution_count": 9,
   "metadata": {},
   "outputs": [
    {
     "data": {
      "text/plain": [
       "['1. cap-shape: bell=b,conical=c,convex=x,flat=f,',\n",
       " 'knobbed=k,sunken=s',\n",
       " '2. cap-surface: fibrous=f,grooves=g,scaly=y,smooth=s']"
      ]
     },
     "execution_count": 9,
     "metadata": {},
     "output_type": "execute_result"
    }
   ],
   "source": [
    "cleaned_label_section[1:4]"
   ]
  },
  {
   "cell_type": "code",
   "execution_count": 10,
   "metadata": {},
   "outputs": [],
   "source": [
    "# Construct regex pattern to data mine the column name and store them into a list of column names. \n",
    "column_names = []\n",
    "column_pattern = '(\\d+.)\\s+?(.+):'\n",
    "for line in cleaned_label_section[1:]: #First line is omitted, as the first line is the title of the section, rather than its content\n",
    "    column = re.search(column_pattern, line)\n",
    "    if column:\n",
    "        column_names.append(column.group(2))\n",
    "        "
   ]
  },
  {
   "cell_type": "code",
   "execution_count": 11,
   "metadata": {},
   "outputs": [
    {
     "data": {
      "text/plain": [
       "['dv',\n",
       " 'cap-shape',\n",
       " 'cap-surface',\n",
       " 'cap-color',\n",
       " 'bruises?',\n",
       " 'odor',\n",
       " 'gill-attachment',\n",
       " 'gill-spacing',\n",
       " 'gill-size',\n",
       " 'gill-color',\n",
       " 'stalk-shape',\n",
       " 'stalk-root',\n",
       " 'stalk-surface-above-ring',\n",
       " 'stalk-surface-below-ring',\n",
       " 'stalk-color-above-ring',\n",
       " 'stalk-color-below-ring',\n",
       " 'veil-type',\n",
       " 'veil-color',\n",
       " 'ring-number',\n",
       " 'ring-type',\n",
       " 'spore-print-color',\n",
       " 'population',\n",
       " 'habitat']"
      ]
     },
     "execution_count": 11,
     "metadata": {},
     "output_type": "execute_result"
    }
   ],
   "source": [
    "# Add 'dv' to the front of the list to indicate dependent variable column as the first column and then check scraping accuracy\n",
    "column_names.insert(0, 'dv')\n",
    "column_names"
   ]
  },
  {
   "cell_type": "code",
   "execution_count": 12,
   "metadata": {},
   "outputs": [],
   "source": [
    "# Scrape the labels and store them into dictionaries\n",
    "integers = [str(number) for number in range(0,10)]\n",
    "new_info_index = []\n",
    "cleaned_label_section\n",
    "for line in cleaned_label_section:\n",
    "    if line[0] in integers: # If the line starts with a number (signifies information about a new column)\n",
    "        new_info_index.append(cleaned_label_section.index(line)) # Stores the indexes of wherever new column info occurs.\n",
    "    "
   ]
  },
  {
   "cell_type": "code",
   "execution_count": 13,
   "metadata": {},
   "outputs": [],
   "source": [
    "# (*) second element and on of the index list was used for the if statement (via slicing [1:]) because an empty dictionary will be appended to\n",
    "# the list of dictionaries otherwise. The logic will update the list of dictionaries and empty the label info dictionary scrape results with \n",
    "# info scraped from previous iteration of the loop, whenever the forloop reads a line that has label information about a new column of the data.\n",
    "# Because there is no label scraped from the previous iteration at the first iteration of the loop (if .index(line) == new_info_index[0]), an\n",
    "# empty dictionary will be added without proper list slicing. \n",
    "\n",
    "dict_list = []\n",
    "label_info_dict = {}\n",
    "label_info_pattern = r'(\\w+)=(\\w)'\n",
    "for line in cleaned_label_section:\n",
    "    if cleaned_label_section.index(line) in new_info_index[1:]: # If the line being read is information for a new column (*)\n",
    "        dict_list.append(label_info_dict) # Append scraped label info to a list before getting initialized to accomodate for new column info\n",
    "        label_info_dict = {} # Reinitialize the label dictionary to update it with info for a new column\n",
    "    matched_infos = re.findall(label_info_pattern, line) # regex searching for label values, and stores every match into\n",
    "    if matched_infos: # If there is a match (if there is information about the labels)\n",
    "        for match in matched_infos:\n",
    "            label_info_dict[match[1]] = match[0] #Creates a key and value for the dictionary as a label info we will use to update the dataset\n",
    "    if cleaned_label_section.index(line) == cleaned_label_section.index(cleaned_label_section[-1]): # If the line that is read is the last line\n",
    "        dict_list.append(label_info_dict) # Append the scraped info into the list of dictionaries \n",
    "    \n",
    "    "
   ]
  },
  {
   "cell_type": "code",
   "execution_count": 14,
   "metadata": {},
   "outputs": [
    {
     "data": {
      "text/plain": [
       "['7. Attribute Information: (classes: edible=e, poisonous=p)',\n",
       " '1. cap-shape: bell=b,conical=c,convex=x,flat=f,',\n",
       " 'knobbed=k,sunken=s',\n",
       " '2. cap-surface: fibrous=f,grooves=g,scaly=y,smooth=s',\n",
       " '3. cap-color: brown=n,buff=b,cinnamon=c,gray=g,green=r,',\n",
       " 'pink=p,purple=u,red=e,white=w,yellow=y',\n",
       " '4. bruises?: bruises=t,no=f',\n",
       " '5. odor: almond=a,anise=l,creosote=c,fishy=y,foul=f,',\n",
       " 'musty=m,none=n,pungent=p,spicy=s',\n",
       " '6. gill-attachment: attached=a,descending=d,free=f,notched=n',\n",
       " '7. gill-spacing: close=c,crowded=w,distant=d',\n",
       " '8. gill-size: broad=b,narrow=n',\n",
       " '9. gill-color: black=k,brown=n,buff=b,chocolate=h,gray=g,',\n",
       " 'green=r,orange=o,pink=p,purple=u,red=e,',\n",
       " 'white=w,yellow=y',\n",
       " '10. stalk-shape: enlarging=e,tapering=t',\n",
       " '11. stalk-root: bulbous=b,club=c,cup=u,equal=e,',\n",
       " 'rhizomorphs=z,rooted=r,missing=?',\n",
       " '12. stalk-surface-above-ring: fibrous=f,scaly=y,silky=k,smooth=s',\n",
       " '13. stalk-surface-below-ring: fibrous=f,scaly=y,silky=k,smooth=s',\n",
       " '14. stalk-color-above-ring: brown=n,buff=b,cinnamon=c,gray=g,orange=o,',\n",
       " 'pink=p,red=e,white=w,yellow=y',\n",
       " '15. stalk-color-below-ring: brown=n,buff=b,cinnamon=c,gray=g,orange=o,',\n",
       " 'pink=p,red=e,white=w,yellow=y',\n",
       " '16. veil-type: partial=p,universal=u',\n",
       " '17. veil-color: brown=n,orange=o,white=w,yellow=y',\n",
       " '18. ring-number: none=n,one=o,two=t',\n",
       " '19. ring-type: cobwebby=c,evanescent=e,flaring=f,large=l,',\n",
       " 'none=n,pendant=p,sheathing=s,zone=z',\n",
       " '20. spore-print-color: black=k,brown=n,buff=b,chocolate=h,green=r,',\n",
       " 'orange=o,purple=u,white=w,yellow=y',\n",
       " '21. population: abundant=a,clustered=c,numerous=n,',\n",
       " 'scattered=s,several=v,solitary=y',\n",
       " '22. habitat: grasses=g,leaves=l,meadows=m,paths=p,',\n",
       " 'urban=u,waste=w,woods=d']"
      ]
     },
     "execution_count": 14,
     "metadata": {},
     "output_type": "execute_result"
    }
   ],
   "source": [
    "cleaned_label_section"
   ]
  },
  {
   "cell_type": "code",
   "execution_count": 15,
   "metadata": {},
   "outputs": [
    {
     "data": {
      "text/plain": [
       "[{'e': 'edible', 'p': 'poisonous'},\n",
       " {'b': 'bell',\n",
       "  'c': 'conical',\n",
       "  'x': 'convex',\n",
       "  'f': 'flat',\n",
       "  'k': 'knobbed',\n",
       "  's': 'sunken'},\n",
       " {'f': 'fibrous', 'g': 'grooves', 'y': 'scaly', 's': 'smooth'},\n",
       " {'n': 'brown',\n",
       "  'b': 'buff',\n",
       "  'c': 'cinnamon',\n",
       "  'g': 'gray',\n",
       "  'r': 'green',\n",
       "  'p': 'pink',\n",
       "  'u': 'purple',\n",
       "  'e': 'red',\n",
       "  'w': 'white',\n",
       "  'y': 'yellow'},\n",
       " {'t': 'bruises', 'f': 'no'},\n",
       " {'a': 'almond',\n",
       "  'l': 'anise',\n",
       "  'c': 'creosote',\n",
       "  'y': 'fishy',\n",
       "  'f': 'foul',\n",
       "  'm': 'musty',\n",
       "  'n': 'none',\n",
       "  'p': 'pungent',\n",
       "  's': 'spicy'},\n",
       " {'a': 'attached', 'd': 'descending', 'f': 'free', 'n': 'notched'},\n",
       " {'c': 'close', 'w': 'crowded', 'd': 'distant'},\n",
       " {'b': 'broad', 'n': 'narrow'},\n",
       " {'k': 'black',\n",
       "  'n': 'brown',\n",
       "  'b': 'buff',\n",
       "  'h': 'chocolate',\n",
       "  'g': 'gray',\n",
       "  'r': 'green',\n",
       "  'o': 'orange',\n",
       "  'p': 'pink',\n",
       "  'u': 'purple',\n",
       "  'e': 'red',\n",
       "  'w': 'white',\n",
       "  'y': 'yellow'},\n",
       " {'e': 'enlarging', 't': 'tapering'},\n",
       " {'b': 'bulbous',\n",
       "  'c': 'club',\n",
       "  'u': 'cup',\n",
       "  'e': 'equal',\n",
       "  'z': 'rhizomorphs',\n",
       "  'r': 'rooted'},\n",
       " {'f': 'fibrous', 'y': 'scaly', 'k': 'silky', 's': 'smooth'},\n",
       " {'f': 'fibrous', 'y': 'scaly', 'k': 'silky', 's': 'smooth'},\n",
       " {'n': 'brown',\n",
       "  'b': 'buff',\n",
       "  'c': 'cinnamon',\n",
       "  'g': 'gray',\n",
       "  'o': 'orange',\n",
       "  'p': 'pink',\n",
       "  'e': 'red',\n",
       "  'w': 'white',\n",
       "  'y': 'yellow'},\n",
       " {'n': 'brown',\n",
       "  'b': 'buff',\n",
       "  'c': 'cinnamon',\n",
       "  'g': 'gray',\n",
       "  'o': 'orange',\n",
       "  'p': 'pink',\n",
       "  'e': 'red',\n",
       "  'w': 'white',\n",
       "  'y': 'yellow'},\n",
       " {'p': 'partial', 'u': 'universal'},\n",
       " {'n': 'brown', 'o': 'orange', 'w': 'white', 'y': 'yellow'},\n",
       " {'n': 'none', 'o': 'one', 't': 'two'},\n",
       " {'c': 'cobwebby',\n",
       "  'e': 'evanescent',\n",
       "  'f': 'flaring',\n",
       "  'l': 'large',\n",
       "  'n': 'none',\n",
       "  'p': 'pendant',\n",
       "  's': 'sheathing',\n",
       "  'z': 'zone'},\n",
       " {'k': 'black',\n",
       "  'n': 'brown',\n",
       "  'b': 'buff',\n",
       "  'h': 'chocolate',\n",
       "  'r': 'green',\n",
       "  'o': 'orange',\n",
       "  'u': 'purple',\n",
       "  'w': 'white',\n",
       "  'y': 'yellow'},\n",
       " {'a': 'abundant',\n",
       "  'c': 'clustered',\n",
       "  'n': 'numerous',\n",
       "  's': 'scattered',\n",
       "  'v': 'several',\n",
       "  'y': 'solitary'},\n",
       " {'g': 'grasses',\n",
       "  'l': 'leaves',\n",
       "  'm': 'meadows',\n",
       "  'p': 'paths',\n",
       "  'u': 'urban',\n",
       "  'w': 'waste',\n",
       "  'd': 'woods'}]"
      ]
     },
     "execution_count": 15,
     "metadata": {},
     "output_type": "execute_result"
    }
   ],
   "source": [
    "dict_list"
   ]
  },
  {
   "cell_type": "markdown",
   "metadata": {},
   "source": [
    "# Step 1 Part 2: Applying the scraped data to the dataset"
   ]
  },
  {
   "cell_type": "code",
   "execution_count": 16,
   "metadata": {},
   "outputs": [],
   "source": [
    "# Applying the scraped column names onto the dataset\n",
    "dataset.columns = column_names"
   ]
  },
  {
   "cell_type": "code",
   "execution_count": 17,
   "metadata": {},
   "outputs": [],
   "source": [
    "# Applying the label values to every column of the dataframe \n",
    "for i in range(0,len(column_names)):\n",
    "    dataset.iloc[:,i].replace(dict_list[i], inplace = True)"
   ]
  },
  {
   "cell_type": "code",
   "execution_count": 18,
   "metadata": {},
   "outputs": [
    {
     "data": {
      "text/html": [
       "<div>\n",
       "<style scoped>\n",
       "    .dataframe tbody tr th:only-of-type {\n",
       "        vertical-align: middle;\n",
       "    }\n",
       "\n",
       "    .dataframe tbody tr th {\n",
       "        vertical-align: top;\n",
       "    }\n",
       "\n",
       "    .dataframe thead th {\n",
       "        text-align: right;\n",
       "    }\n",
       "</style>\n",
       "<table border=\"1\" class=\"dataframe\">\n",
       "  <thead>\n",
       "    <tr style=\"text-align: right;\">\n",
       "      <th></th>\n",
       "      <th>dv</th>\n",
       "      <th>cap-shape</th>\n",
       "      <th>cap-surface</th>\n",
       "      <th>cap-color</th>\n",
       "      <th>bruises?</th>\n",
       "      <th>odor</th>\n",
       "      <th>gill-attachment</th>\n",
       "      <th>gill-spacing</th>\n",
       "      <th>gill-size</th>\n",
       "      <th>gill-color</th>\n",
       "      <th>...</th>\n",
       "      <th>stalk-surface-below-ring</th>\n",
       "      <th>stalk-color-above-ring</th>\n",
       "      <th>stalk-color-below-ring</th>\n",
       "      <th>veil-type</th>\n",
       "      <th>veil-color</th>\n",
       "      <th>ring-number</th>\n",
       "      <th>ring-type</th>\n",
       "      <th>spore-print-color</th>\n",
       "      <th>population</th>\n",
       "      <th>habitat</th>\n",
       "    </tr>\n",
       "  </thead>\n",
       "  <tbody>\n",
       "    <tr>\n",
       "      <th>0</th>\n",
       "      <td>poisonous</td>\n",
       "      <td>convex</td>\n",
       "      <td>smooth</td>\n",
       "      <td>brown</td>\n",
       "      <td>bruises</td>\n",
       "      <td>pungent</td>\n",
       "      <td>free</td>\n",
       "      <td>close</td>\n",
       "      <td>narrow</td>\n",
       "      <td>black</td>\n",
       "      <td>...</td>\n",
       "      <td>smooth</td>\n",
       "      <td>white</td>\n",
       "      <td>white</td>\n",
       "      <td>partial</td>\n",
       "      <td>white</td>\n",
       "      <td>one</td>\n",
       "      <td>pendant</td>\n",
       "      <td>black</td>\n",
       "      <td>scattered</td>\n",
       "      <td>urban</td>\n",
       "    </tr>\n",
       "    <tr>\n",
       "      <th>1</th>\n",
       "      <td>edible</td>\n",
       "      <td>convex</td>\n",
       "      <td>smooth</td>\n",
       "      <td>yellow</td>\n",
       "      <td>bruises</td>\n",
       "      <td>almond</td>\n",
       "      <td>free</td>\n",
       "      <td>close</td>\n",
       "      <td>broad</td>\n",
       "      <td>black</td>\n",
       "      <td>...</td>\n",
       "      <td>smooth</td>\n",
       "      <td>white</td>\n",
       "      <td>white</td>\n",
       "      <td>partial</td>\n",
       "      <td>white</td>\n",
       "      <td>one</td>\n",
       "      <td>pendant</td>\n",
       "      <td>brown</td>\n",
       "      <td>numerous</td>\n",
       "      <td>grasses</td>\n",
       "    </tr>\n",
       "    <tr>\n",
       "      <th>2</th>\n",
       "      <td>edible</td>\n",
       "      <td>bell</td>\n",
       "      <td>smooth</td>\n",
       "      <td>white</td>\n",
       "      <td>bruises</td>\n",
       "      <td>anise</td>\n",
       "      <td>free</td>\n",
       "      <td>close</td>\n",
       "      <td>broad</td>\n",
       "      <td>brown</td>\n",
       "      <td>...</td>\n",
       "      <td>smooth</td>\n",
       "      <td>white</td>\n",
       "      <td>white</td>\n",
       "      <td>partial</td>\n",
       "      <td>white</td>\n",
       "      <td>one</td>\n",
       "      <td>pendant</td>\n",
       "      <td>brown</td>\n",
       "      <td>numerous</td>\n",
       "      <td>meadows</td>\n",
       "    </tr>\n",
       "    <tr>\n",
       "      <th>3</th>\n",
       "      <td>poisonous</td>\n",
       "      <td>convex</td>\n",
       "      <td>scaly</td>\n",
       "      <td>white</td>\n",
       "      <td>bruises</td>\n",
       "      <td>pungent</td>\n",
       "      <td>free</td>\n",
       "      <td>close</td>\n",
       "      <td>narrow</td>\n",
       "      <td>brown</td>\n",
       "      <td>...</td>\n",
       "      <td>smooth</td>\n",
       "      <td>white</td>\n",
       "      <td>white</td>\n",
       "      <td>partial</td>\n",
       "      <td>white</td>\n",
       "      <td>one</td>\n",
       "      <td>pendant</td>\n",
       "      <td>black</td>\n",
       "      <td>scattered</td>\n",
       "      <td>urban</td>\n",
       "    </tr>\n",
       "    <tr>\n",
       "      <th>4</th>\n",
       "      <td>edible</td>\n",
       "      <td>convex</td>\n",
       "      <td>smooth</td>\n",
       "      <td>gray</td>\n",
       "      <td>no</td>\n",
       "      <td>none</td>\n",
       "      <td>free</td>\n",
       "      <td>crowded</td>\n",
       "      <td>broad</td>\n",
       "      <td>black</td>\n",
       "      <td>...</td>\n",
       "      <td>smooth</td>\n",
       "      <td>white</td>\n",
       "      <td>white</td>\n",
       "      <td>partial</td>\n",
       "      <td>white</td>\n",
       "      <td>one</td>\n",
       "      <td>evanescent</td>\n",
       "      <td>brown</td>\n",
       "      <td>abundant</td>\n",
       "      <td>grasses</td>\n",
       "    </tr>\n",
       "    <tr>\n",
       "      <th>...</th>\n",
       "      <td>...</td>\n",
       "      <td>...</td>\n",
       "      <td>...</td>\n",
       "      <td>...</td>\n",
       "      <td>...</td>\n",
       "      <td>...</td>\n",
       "      <td>...</td>\n",
       "      <td>...</td>\n",
       "      <td>...</td>\n",
       "      <td>...</td>\n",
       "      <td>...</td>\n",
       "      <td>...</td>\n",
       "      <td>...</td>\n",
       "      <td>...</td>\n",
       "      <td>...</td>\n",
       "      <td>...</td>\n",
       "      <td>...</td>\n",
       "      <td>...</td>\n",
       "      <td>...</td>\n",
       "      <td>...</td>\n",
       "      <td>...</td>\n",
       "    </tr>\n",
       "    <tr>\n",
       "      <th>8119</th>\n",
       "      <td>edible</td>\n",
       "      <td>knobbed</td>\n",
       "      <td>smooth</td>\n",
       "      <td>brown</td>\n",
       "      <td>no</td>\n",
       "      <td>none</td>\n",
       "      <td>attached</td>\n",
       "      <td>close</td>\n",
       "      <td>broad</td>\n",
       "      <td>yellow</td>\n",
       "      <td>...</td>\n",
       "      <td>smooth</td>\n",
       "      <td>orange</td>\n",
       "      <td>orange</td>\n",
       "      <td>partial</td>\n",
       "      <td>orange</td>\n",
       "      <td>one</td>\n",
       "      <td>pendant</td>\n",
       "      <td>buff</td>\n",
       "      <td>clustered</td>\n",
       "      <td>leaves</td>\n",
       "    </tr>\n",
       "    <tr>\n",
       "      <th>8120</th>\n",
       "      <td>edible</td>\n",
       "      <td>convex</td>\n",
       "      <td>smooth</td>\n",
       "      <td>brown</td>\n",
       "      <td>no</td>\n",
       "      <td>none</td>\n",
       "      <td>attached</td>\n",
       "      <td>close</td>\n",
       "      <td>broad</td>\n",
       "      <td>yellow</td>\n",
       "      <td>...</td>\n",
       "      <td>smooth</td>\n",
       "      <td>orange</td>\n",
       "      <td>orange</td>\n",
       "      <td>partial</td>\n",
       "      <td>brown</td>\n",
       "      <td>one</td>\n",
       "      <td>pendant</td>\n",
       "      <td>buff</td>\n",
       "      <td>several</td>\n",
       "      <td>leaves</td>\n",
       "    </tr>\n",
       "    <tr>\n",
       "      <th>8121</th>\n",
       "      <td>edible</td>\n",
       "      <td>flat</td>\n",
       "      <td>smooth</td>\n",
       "      <td>brown</td>\n",
       "      <td>no</td>\n",
       "      <td>none</td>\n",
       "      <td>attached</td>\n",
       "      <td>close</td>\n",
       "      <td>broad</td>\n",
       "      <td>brown</td>\n",
       "      <td>...</td>\n",
       "      <td>smooth</td>\n",
       "      <td>orange</td>\n",
       "      <td>orange</td>\n",
       "      <td>partial</td>\n",
       "      <td>orange</td>\n",
       "      <td>one</td>\n",
       "      <td>pendant</td>\n",
       "      <td>buff</td>\n",
       "      <td>clustered</td>\n",
       "      <td>leaves</td>\n",
       "    </tr>\n",
       "    <tr>\n",
       "      <th>8122</th>\n",
       "      <td>poisonous</td>\n",
       "      <td>knobbed</td>\n",
       "      <td>scaly</td>\n",
       "      <td>brown</td>\n",
       "      <td>no</td>\n",
       "      <td>fishy</td>\n",
       "      <td>free</td>\n",
       "      <td>close</td>\n",
       "      <td>narrow</td>\n",
       "      <td>buff</td>\n",
       "      <td>...</td>\n",
       "      <td>silky</td>\n",
       "      <td>white</td>\n",
       "      <td>white</td>\n",
       "      <td>partial</td>\n",
       "      <td>white</td>\n",
       "      <td>one</td>\n",
       "      <td>evanescent</td>\n",
       "      <td>white</td>\n",
       "      <td>several</td>\n",
       "      <td>leaves</td>\n",
       "    </tr>\n",
       "    <tr>\n",
       "      <th>8123</th>\n",
       "      <td>edible</td>\n",
       "      <td>convex</td>\n",
       "      <td>smooth</td>\n",
       "      <td>brown</td>\n",
       "      <td>no</td>\n",
       "      <td>none</td>\n",
       "      <td>attached</td>\n",
       "      <td>close</td>\n",
       "      <td>broad</td>\n",
       "      <td>yellow</td>\n",
       "      <td>...</td>\n",
       "      <td>smooth</td>\n",
       "      <td>orange</td>\n",
       "      <td>orange</td>\n",
       "      <td>partial</td>\n",
       "      <td>orange</td>\n",
       "      <td>one</td>\n",
       "      <td>pendant</td>\n",
       "      <td>orange</td>\n",
       "      <td>clustered</td>\n",
       "      <td>leaves</td>\n",
       "    </tr>\n",
       "  </tbody>\n",
       "</table>\n",
       "<p>8124 rows × 23 columns</p>\n",
       "</div>"
      ],
      "text/plain": [
       "             dv cap-shape cap-surface cap-color bruises?     odor  \\\n",
       "0     poisonous    convex      smooth     brown  bruises  pungent   \n",
       "1        edible    convex      smooth    yellow  bruises   almond   \n",
       "2        edible      bell      smooth     white  bruises    anise   \n",
       "3     poisonous    convex       scaly     white  bruises  pungent   \n",
       "4        edible    convex      smooth      gray       no     none   \n",
       "...         ...       ...         ...       ...      ...      ...   \n",
       "8119     edible   knobbed      smooth     brown       no     none   \n",
       "8120     edible    convex      smooth     brown       no     none   \n",
       "8121     edible      flat      smooth     brown       no     none   \n",
       "8122  poisonous   knobbed       scaly     brown       no    fishy   \n",
       "8123     edible    convex      smooth     brown       no     none   \n",
       "\n",
       "     gill-attachment gill-spacing gill-size gill-color  ...  \\\n",
       "0               free        close    narrow      black  ...   \n",
       "1               free        close     broad      black  ...   \n",
       "2               free        close     broad      brown  ...   \n",
       "3               free        close    narrow      brown  ...   \n",
       "4               free      crowded     broad      black  ...   \n",
       "...              ...          ...       ...        ...  ...   \n",
       "8119        attached        close     broad     yellow  ...   \n",
       "8120        attached        close     broad     yellow  ...   \n",
       "8121        attached        close     broad      brown  ...   \n",
       "8122            free        close    narrow       buff  ...   \n",
       "8123        attached        close     broad     yellow  ...   \n",
       "\n",
       "     stalk-surface-below-ring stalk-color-above-ring stalk-color-below-ring  \\\n",
       "0                      smooth                  white                  white   \n",
       "1                      smooth                  white                  white   \n",
       "2                      smooth                  white                  white   \n",
       "3                      smooth                  white                  white   \n",
       "4                      smooth                  white                  white   \n",
       "...                       ...                    ...                    ...   \n",
       "8119                   smooth                 orange                 orange   \n",
       "8120                   smooth                 orange                 orange   \n",
       "8121                   smooth                 orange                 orange   \n",
       "8122                    silky                  white                  white   \n",
       "8123                   smooth                 orange                 orange   \n",
       "\n",
       "     veil-type veil-color ring-number   ring-type spore-print-color  \\\n",
       "0      partial      white         one     pendant             black   \n",
       "1      partial      white         one     pendant             brown   \n",
       "2      partial      white         one     pendant             brown   \n",
       "3      partial      white         one     pendant             black   \n",
       "4      partial      white         one  evanescent             brown   \n",
       "...        ...        ...         ...         ...               ...   \n",
       "8119   partial     orange         one     pendant              buff   \n",
       "8120   partial      brown         one     pendant              buff   \n",
       "8121   partial     orange         one     pendant              buff   \n",
       "8122   partial      white         one  evanescent             white   \n",
       "8123   partial     orange         one     pendant            orange   \n",
       "\n",
       "     population  habitat  \n",
       "0     scattered    urban  \n",
       "1      numerous  grasses  \n",
       "2      numerous  meadows  \n",
       "3     scattered    urban  \n",
       "4      abundant  grasses  \n",
       "...         ...      ...  \n",
       "8119  clustered   leaves  \n",
       "8120    several   leaves  \n",
       "8121  clustered   leaves  \n",
       "8122    several   leaves  \n",
       "8123  clustered   leaves  \n",
       "\n",
       "[8124 rows x 23 columns]"
      ]
     },
     "execution_count": 18,
     "metadata": {},
     "output_type": "execute_result"
    }
   ],
   "source": [
    "dataset"
   ]
  },
  {
   "cell_type": "code",
   "execution_count": 19,
   "metadata": {},
   "outputs": [
    {
     "name": "stdout",
     "output_type": "stream",
     "text": [
      "There are 8124 rows of data with 23 variables, of which one is our target variable.\n"
     ]
    }
   ],
   "source": [
    "print(f\"There are {dataset.shape[0]} rows of data with {dataset.shape[1]} variables, of which one is our target variable.\")"
   ]
  },
  {
   "cell_type": "markdown",
   "metadata": {},
   "source": [
    "# Step 2: Exploratory Data Analysis"
   ]
  },
  {
   "cell_type": "markdown",
   "metadata": {},
   "source": [
    "In order to create a relevant and strong model, we must first learn more about the data we are working with. Since this model predicts whether a mushroom is edible or poisonous, it is imperative to first learn more about the distribution of the two classes."
   ]
  },
  {
   "cell_type": "markdown",
   "metadata": {},
   "source": [
    "# Step 2 Part 1: Dependent Variable"
   ]
  },
  {
   "cell_type": "code",
   "execution_count": 20,
   "metadata": {},
   "outputs": [
    {
     "data": {
      "text/plain": [
       "edible       4208\n",
       "poisonous    3916\n",
       "Name: dv, dtype: int64"
      ]
     },
     "execution_count": 20,
     "metadata": {},
     "output_type": "execute_result"
    }
   ],
   "source": [
    "# See how many mushrooms in our dataset is edible and how many are poisonous\n",
    "dataset.dv.value_counts()"
   ]
  },
  {
   "cell_type": "code",
   "execution_count": 21,
   "metadata": {},
   "outputs": [
    {
     "data": {
      "image/png": "[encoded data removed]",
      "text/plain": [
       "<Figure size 432x288 with 1 Axes>"
      ]
     },
     "metadata": {
      "needs_background": "light"
     },
     "output_type": "display_data"
    }
   ],
   "source": [
    "fig, ax = plt.subplots()\n",
    "ax.hist(dataset.dv)\n",
    "plt.show()"
   ]
  },
  {
   "cell_type": "markdown",
   "metadata": {},
   "source": [
    "From this, we see that we are dealing with a rather balanced dataset. One class is not more represented than another by a significant margin. This is important to note when splitting data into training and test sets."
   ]
  },
  {
   "cell_type": "markdown",
   "metadata": {},
   "source": [
    "# Step 2 Part 2: Investigating Missing Values"
   ]
  },
  {
   "cell_type": "markdown",
   "metadata": {},
   "source": [
    "From the txt file, we learned that missing values are labeled as \"?\". Therefore, we must first replace all instances of \"?\" with a null value\n"
   ]
  },
  {
   "cell_type": "code",
   "execution_count": 22,
   "metadata": {},
   "outputs": [],
   "source": [
    "# replacing missing values\n",
    "\n",
    "cleaned_dataset = dataset.replace('?', np.nan)"
   ]
  },
  {
   "cell_type": "code",
   "execution_count": 23,
   "metadata": {},
   "outputs": [],
   "source": [
    "# Examining missing values\n",
    "\n",
    "def missing_values_table(dataset):\n",
    "    \n",
    "    # Finds total number of null values per column\n",
    "    missing_sum = dataset.isnull().sum()\n",
    "    \n",
    "    # Finds percentage of values that are null per column\n",
    "    missing_percentage = round(100 * missing_sum/len(dataset),2).astype(str) + \" %\"\n",
    "    \n",
    "    # Creates a dataframe with the results. Axis = 1 argument makes it a column bind, while axis = 0 (default) makes it a row bind\n",
    "    missing_table = pd.concat([missing_sum, missing_percentage], axis = 1)\n",
    "    # Rename the table columns and sort the table by percentage of missing descending\n",
    "    missing_table = missing_table.rename(columns = {0: \"Total missing values\", 1: \"Percent missing\"})\n",
    "    missing_table = missing_table[missing_table[\"Total missing values\"] > 0].sort_values(by = \"Percent missing\", ascending = False)\n",
    "    \n",
    "    # Print some summary information\n",
    "    print(f\"There are {missing_table.shape[0]} column(s) with missing values, out of {dataset.shape[1]} columns total.\")\n",
    "    print(\"\\n\")\n",
    "    # Return the dataframe with missing information\n",
    "    return(missing_table)"
   ]
  },
  {
   "cell_type": "code",
   "execution_count": 24,
   "metadata": {},
   "outputs": [
    {
     "name": "stdout",
     "output_type": "stream",
     "text": [
      "There are 1 column(s) with missing values, out of 23 columns total.\n",
      "\n",
      "\n"
     ]
    },
    {
     "data": {
      "text/html": [
       "<div>\n",
       "<style scoped>\n",
       "    .dataframe tbody tr th:only-of-type {\n",
       "        vertical-align: middle;\n",
       "    }\n",
       "\n",
       "    .dataframe tbody tr th {\n",
       "        vertical-align: top;\n",
       "    }\n",
       "\n",
       "    .dataframe thead th {\n",
       "        text-align: right;\n",
       "    }\n",
       "</style>\n",
       "<table border=\"1\" class=\"dataframe\">\n",
       "  <thead>\n",
       "    <tr style=\"text-align: right;\">\n",
       "      <th></th>\n",
       "      <th>Total missing values</th>\n",
       "      <th>Percent missing</th>\n",
       "    </tr>\n",
       "  </thead>\n",
       "  <tbody>\n",
       "    <tr>\n",
       "      <th>stalk-root</th>\n",
       "      <td>2480</td>\n",
       "      <td>30.53 %</td>\n",
       "    </tr>\n",
       "  </tbody>\n",
       "</table>\n",
       "</div>"
      ],
      "text/plain": [
       "            Total missing values Percent missing\n",
       "stalk-root                  2480         30.53 %"
      ]
     },
     "execution_count": 24,
     "metadata": {},
     "output_type": "execute_result"
    }
   ],
   "source": [
    "missing_values_table(cleaned_dataset)"
   ]
  },
  {
   "cell_type": "code",
   "execution_count": 25,
   "metadata": {},
   "outputs": [],
   "source": [
    "# See if the stalk-root variable has a high correlation with the dependent variable. If not, may want to drop the variable, as almost a third\n",
    "# of the data is missing.\n",
    "\n",
    "# Assigns 0 to edible, 1 to poisonous\n",
    "stalk_df = dataset\n",
    "stalk_df[\"dv\"] = np.where(stalk_df[\"dv\"] == \"edible\", 0, 1)\n",
    "Poisonous_Count = stalk_df.groupby(stalk_df[\"stalk-root\"]).dv.sum()\n",
    "Total_Count = stalk_df.groupby(stalk_df[\"stalk-root\"]).dv.count()\n",
    "Percentage_Poisonous = Poisonous_Count/Total_Count\n"
   ]
  },
  {
   "cell_type": "code",
   "execution_count": 26,
   "metadata": {},
   "outputs": [
    {
     "data": {
      "text/plain": [
       "stalk-root\n",
       "?          0.709677\n",
       "bulbous    0.491525\n",
       "club       0.079137\n",
       "equal      0.228571\n",
       "rooted     0.000000\n",
       "Name: dv, dtype: float64"
      ]
     },
     "execution_count": 26,
     "metadata": {},
     "output_type": "execute_result"
    }
   ],
   "source": [
    "# 71% of mushrooms with missing stalk-root variable are poisonous\n",
    "Percentage_Poisonous"
   ]
  },
  {
   "cell_type": "markdown",
   "metadata": {},
   "source": [
    "From this analysis, we see that the mushrooms with a missing value for the stalk-root variable have a disproportionately high rate of toxicity. Therefore, the missing value is MNAR, or not missing at random. It may be more beneficial for the model to keep the missing value."
   ]
  },
  {
   "cell_type": "code",
   "execution_count": 27,
   "metadata": {},
   "outputs": [
    {
     "data": {
      "image/png": "[encoded data removed]",
      "text/plain": [
       "<Figure size 432x288 with 2 Axes>"
      ]
     },
     "metadata": {
      "needs_background": "light"
     },
     "output_type": "display_data"
    }
   ],
   "source": [
    "# Note that edible = 0 and poisonous = 1. Mushrooms with missing stalk-root values are more poisonous than not, while the mushrooms with \n",
    "# stalk-root values are more likely to be edible than not.\n",
    "missings = cleaned_dataset[cleaned_dataset[\"stalk-root\"].isnull()]\n",
    "not_missing = cleaned_dataset[~cleaned_dataset[\"stalk-root\"].isnull()]\n",
    "\n",
    "fig = plt.figure()\n",
    "ax1 = fig.add_subplot(1,2,1)\n",
    "ax2 = fig.add_subplot(1,2,2)\n",
    "\n",
    "ax1.hist(not_missing[\"dv\"], weights =  [1/len(not_missing[\"dv\"])] * len(not_missing[\"dv\"]))\n",
    "ax2.hist(missings[\"dv\"], weights = [1/len(missings[\"dv\"])] * len(missings[\"dv\"]))\n",
    "ax1.set_title(\"Toxicity W/O Missing Values\")\n",
    "ax2.set_title(\"Toxicity W/ Missing Values\")\n",
    "\n",
    "\n",
    "plt.gca().yaxis.set_major_formatter(PercentFormatter(1))\n",
    "plt.show()"
   ]
  },
  {
   "cell_type": "markdown",
   "metadata": {},
   "source": [
    "The nature of the missing value is case specific and thus requires research about mushrooms themselves. Research shows that not all mushrooms have stalks. Therefore, the missing value in the stalk-root column most likely signify that the mushroom does not have a stalk. "
   ]
  },
  {
   "cell_type": "code",
   "execution_count": 28,
   "metadata": {},
   "outputs": [],
   "source": [
    "# update dataset with missing value finding\n",
    "cleaned_dataset[\"stalk-root\"] = cleaned_dataset[\"stalk-root\"].replace(np.nan,\"no stalk\")"
   ]
  },
  {
   "cell_type": "code",
   "execution_count": 29,
   "metadata": {},
   "outputs": [
    {
     "data": {
      "text/plain": [
       "bulbous     3776\n",
       "no stalk    2480\n",
       "equal       1120\n",
       "club         556\n",
       "rooted       192\n",
       "Name: stalk-root, dtype: int64"
      ]
     },
     "execution_count": 29,
     "metadata": {},
     "output_type": "execute_result"
    }
   ],
   "source": [
    "cleaned_dataset[\"stalk-root\"].value_counts()"
   ]
  },
  {
   "cell_type": "code",
   "execution_count": 62,
   "metadata": {},
   "outputs": [],
   "source": [
    "cleaned_dataset[\"dv\"] = np.where(cleaned_dataset[\"dv\"] == \"poisonous\", 1, 0)"
   ]
  },
  {
   "cell_type": "markdown",
   "metadata": {},
   "source": [
    "# Step 2 Part 3: Analysis of Remaining Variables "
   ]
  },
  {
   "cell_type": "markdown",
   "metadata": {},
   "source": [
    "With the basic understanding of the dependent variable and the nature of our missing value, the objective of our EDA hence forth will be to understand how different variables relate to the toxicity of mushrooms. "
   ]
  },
  {
   "cell_type": "code",
   "execution_count": 285,
   "metadata": {},
   "outputs": [
    {
     "data": {
      "text/plain": [
       "<matplotlib.axes._subplots.AxesSubplot at 0x20dde180548>"
      ]
     },
     "execution_count": 285,
     "metadata": {},
     "output_type": "execute_result"
    },
    {
     "data": {
      "image/png": "[encoded data removed]",
      "text/plain": [
       "<Figure size 432x288 with 1 Axes>"
      ]
     },
     "metadata": {
      "needs_background": "light"
     },
     "output_type": "display_data"
    }
   ],
   "source": [
    "sns.countplot(cleaned_dataset[\"stalk-root\"], hue = cleaned_dataset['dv'])"
   ]
  },
  {
   "cell_type": "code",
   "execution_count": 288,
   "metadata": {},
   "outputs": [],
   "source": [
    "# Create a list of independent variable names\n",
    "cols = list(cleaned_dataset.columns)[1:]"
   ]
  },
  {
   "cell_type": "code",
   "execution_count": 318,
   "metadata": {},
   "outputs": [
    {
     "data": {
      "image/png": "[encoded data removed]",
      "text/plain": [
       "<Figure size 1800x7200 with 22 Axes>"
      ]
     },
     "metadata": {
      "needs_background": "light"
     },
     "output_type": "display_data"
    }
   ],
   "source": [
    "# Create a bar plot to see the distribution of different values per column by edibleness. \n",
    "# Assigned: 0 to edible, 1 to poisonous\n",
    "fig, axes = plt.subplots(11, 2, figsize = (25, 100))\n",
    "for col in cols:\n",
    "    i = cols.index(col)\n",
    "    countplot = sns.countplot(col, hue = 'dv', data = cleaned_dataset, ax = axes[i//2, i%2])\n",
    "plt.show()"
   ]
  },
  {
   "cell_type": "markdown",
   "metadata": {},
   "source": [
    "Notable findings:\n",
    "\n",
    "1. Mushrooms with fiberous cap surfaces have an around 50% more likely chance for it to be edible, while other variations of cap surfaces tend to be more poisonous. \n",
    "2. Mushrooms with bruises tend to be edible, while mushrooms without bruises tend to be poisonous, although the association isn't exceptionally strong.\n",
    "3. Silky stalk roots tend to correlate with poisonous mushrooms, while smooth stalk roots tend to correltate with edible mushrooms.\n",
    "4. The veil-type column only takes one value - can drop\n",
    "5. Ring number column is ordinal, while all other columns are non-ordinal. The ring-number column will be ordinal encoded, while the other columns will be one-hot encoded."
   ]
  },
  {
   "cell_type": "code",
   "execution_count": 30,
   "metadata": {},
   "outputs": [],
   "source": [
    "# Drop the veil-type column, as it only takes one value. No useful information is added for classification.\n",
    "\n",
    "cleaned_dataset[\"veil-type\"].value_counts()\n",
    "\n",
    "cleaned_dataset.drop(columns = [\"veil-type\"], inplace = True)"
   ]
  },
  {
   "cell_type": "code",
   "execution_count": 31,
   "metadata": {},
   "outputs": [],
   "source": [
    "# Ordinal encode the ring-number column\n",
    "\n",
    "ring_number_dict = {\"none\": 0,\n",
    "                    \"one\": 1,\n",
    "                    \"two\":2}\n",
    "\n",
    "cleaned_dataset[\"ring-number\"].replace(ring_number_dict, inplace = True)"
   ]
  },
  {
   "cell_type": "code",
   "execution_count": 32,
   "metadata": {},
   "outputs": [],
   "source": [
    "# In order to create a correlation matrix, I will first use the pd.get_dummies() function to one-hot encode the variables, as the function \n",
    "# will produce a pandas DataFrame rather than a sparse matrix.\n",
    "\n",
    "# Create a dataframe of the categorical variables that will be one-hot encoded\n",
    "cleaned_dataset_cat = cleaned_dataset.drop(columns = [\"dv\", \"ring-number\"])\n",
    "\n",
    "# Use the get_dummies function to one-hot encode the appropriate columns\n",
    "cdc_dummies = pd.get_dummies(cleaned_dataset_cat)"
   ]
  },
  {
   "cell_type": "code",
   "execution_count": 25,
   "metadata": {},
   "outputs": [],
   "source": [
    "# Concatenate the variables that were not one-hot encoded to the dataframe with the dummy variables.\n",
    "\n",
    "info_to_concat = cleaned_dataset[[\"dv\", \"ring-number\"]]\n",
    "\n",
    "full_dummies_data = pd.concat([info_to_concat,cdc_dummies], axis = 1)"
   ]
  },
  {
   "cell_type": "code",
   "execution_count": 35,
   "metadata": {},
   "outputs": [],
   "source": [
    "full_dummies_data[\"dv\"] = np.where(full_dummies_data[\"dv\"] == \"poisonous\", 1, 0)"
   ]
  },
  {
   "cell_type": "code",
   "execution_count": 36,
   "metadata": {},
   "outputs": [
    {
     "data": {
      "text/plain": [
       "dv                                1.000000\n",
       "odor_foul                         0.623842\n",
       "stalk-surface-above-ring_silky    0.587658\n",
       "stalk-surface-below-ring_silky    0.573524\n",
       "gill-size_narrow                  0.540024\n",
       "gill-color_buff                   0.538808\n",
       "bruises?_no                       0.501530\n",
       "spore-print-color_chocolate       0.490229\n",
       "ring-type_large                   0.451619\n",
       "population_several                0.443722\n",
       "Name: dv, dtype: float64"
      ]
     },
     "execution_count": 36,
     "metadata": {},
     "output_type": "execute_result"
    }
   ],
   "source": [
    "# Create a correlation matrix to find variables that correlate the most with the dependent vairable\n",
    "\n",
    "correlations = full_dummies_data.corr()\n",
    "\n",
    "# Find the variables that correlated the most with the dependent variable\n",
    "\n",
    "correlations[\"dv\"].sort_values(ascending = False).head(10)"
   ]
  },
  {
   "cell_type": "markdown",
   "metadata": {},
   "source": [
    "The resulting correlations are congruent with the insights apparent from the countplots generated earlier. I was personally surprised that the correlation for gill-color_buff and ring-type_large was not higher.\n",
    "\n",
    "The data will be now preprocessed for modeling. "
   ]
  },
  {
   "cell_type": "markdown",
   "metadata": {},
   "source": [
    "# Step 3: Data Preprocessing"
   ]
  },
  {
   "cell_type": "code",
   "execution_count": 63,
   "metadata": {},
   "outputs": [],
   "source": [
    "X = cleaned_dataset.iloc[:,1:]\n",
    "y = cleaned_dataset.iloc[:,0]"
   ]
  },
  {
   "cell_type": "code",
   "execution_count": 64,
   "metadata": {},
   "outputs": [],
   "source": [
    "# Split the dataset into training and test sets\n",
    "from sklearn.model_selection import train_test_split\n",
    "X = cleaned_dataset.iloc[:,1:]\n",
    "y = cleaned_dataset.iloc[:,0]\n",
    "\n",
    "X_train, X_test, y_train, y_test = train_test_split(X, y, test_size = 0.2, random_state = 123)"
   ]
  },
  {
   "cell_type": "code",
   "execution_count": 65,
   "metadata": {},
   "outputs": [],
   "source": [
    "# Remove ring-number column from X sets for it to be label encoded\n",
    "\n",
    "X_tr_ring = X_train[\"ring-number\"] \n",
    "X_te_ring = X_test[\"ring-number\"]\n",
    "\n",
    "X_train = X_train.drop(columns = [\"ring-number\"])\n",
    "X_test = X_test.drop(columns = [\"ring-number\"])"
   ]
  },
  {
   "cell_type": "code",
   "execution_count": 66,
   "metadata": {},
   "outputs": [],
   "source": [
    "# One-hot encode the other categorical columns\n",
    "\n",
    "from feature_engine.encoding import OneHotEncoder\n",
    "\n",
    "encoder = OneHotEncoder(\n",
    "    top_categories=22,\n",
    "    drop_last=False)\n",
    "\n",
    "encoder.fit(X_train)\n",
    "X_train = encoder.transform(X_train)\n",
    "X_test = encoder.transform(X_test)"
   ]
  },
  {
   "cell_type": "code",
   "execution_count": 67,
   "metadata": {},
   "outputs": [],
   "source": [
    "# Merge the ring-number column back to the respective datasets\n",
    "X_train[\"ring-number\"] = X_tr_ring\n",
    "X_test[\"ring-number\"] = X_te_ring"
   ]
  },
  {
   "cell_type": "markdown",
   "metadata": {},
   "source": [
    "# Section 2: Modeling"
   ]
  },
  {
   "cell_type": "markdown",
   "metadata": {},
   "source": [
    "I will be comparing the accuracies of Logistic Regression, Random Forest, and XG Boost classifiers. The classifier with the highest accuracy will then be tuned to minimize false negatives."
   ]
  },
  {
   "cell_type": "markdown",
   "metadata": {},
   "source": [
    "# Step 1: Cross Validation of Different Models"
   ]
  },
  {
   "cell_type": "code",
   "execution_count": 93,
   "metadata": {},
   "outputs": [],
   "source": [
    "# Finding cross-validation score of logistic regression model\n",
    "\n",
    "from sklearn.linear_model import LogisticRegression\n",
    "from sklearn.model_selection import cross_val_score\n",
    "LR = LogisticRegression()\n",
    "\n",
    "scores = cross_val_score(LR, X_train, y_train, scoring = \"neg_log_loss\", cv = 10)\n",
    "\n",
    "LR_LL_scores = -scores\n",
    "\n",
    "LR_evaluation = LR_LL_scores.mean()"
   ]
  },
  {
   "cell_type": "code",
   "execution_count": 94,
   "metadata": {},
   "outputs": [],
   "source": [
    "# Finding cross-validation score of Random Forrest model \n",
    "\n",
    "from sklearn.ensemble import RandomForestClassifier\n",
    "\n",
    "RF = RandomForestClassifier()\n",
    "scores = cross_val_score(RF, X_train, y_train, scoring = \"neg_log_loss\", cv = 10)\n",
    "\n",
    "RF_LL_scores = -scores\n",
    "\n",
    "RF_evaluation = RF_LL_scores.mean()"
   ]
  },
  {
   "cell_type": "code",
   "execution_count": 96,
   "metadata": {},
   "outputs": [
    {
     "name": "stdout",
     "output_type": "stream",
     "text": [
      "[13:45:56] WARNING: C:/Users/Administrator/workspace/xgboost-win64_release_1.3.0/src/learner.cc:1061: Starting in XGBoost 1.3.0, the default evaluation metric used with the objective 'binary:logistic' was changed from 'error' to 'logloss'. Explicitly set eval_metric if you'd like to restore the old behavior.\n",
      "[13:45:56] WARNING: C:/Users/Administrator/workspace/xgboost-win64_release_1.3.0/src/learner.cc:1061: Starting in XGBoost 1.3.0, the default evaluation metric used with the objective 'binary:logistic' was changed from 'error' to 'logloss'. Explicitly set eval_metric if you'd like to restore the old behavior.\n",
      "[13:45:57] WARNING: C:/Users/Administrator/workspace/xgboost-win64_release_1.3.0/src/learner.cc:1061: Starting in XGBoost 1.3.0, the default evaluation metric used with the objective 'binary:logistic' was changed from 'error' to 'logloss'. Explicitly set eval_metric if you'd like to restore the old behavior.\n",
      "[13:45:58] WARNING: C:/Users/Administrator/workspace/xgboost-win64_release_1.3.0/src/learner.cc:1061: Starting in XGBoost 1.3.0, the default evaluation metric used with the objective 'binary:logistic' was changed from 'error' to 'logloss'. Explicitly set eval_metric if you'd like to restore the old behavior.\n",
      "[13:45:59] WARNING: C:/Users/Administrator/workspace/xgboost-win64_release_1.3.0/src/learner.cc:1061: Starting in XGBoost 1.3.0, the default evaluation metric used with the objective 'binary:logistic' was changed from 'error' to 'logloss'. Explicitly set eval_metric if you'd like to restore the old behavior.\n",
      "[13:45:59] WARNING: C:/Users/Administrator/workspace/xgboost-win64_release_1.3.0/src/learner.cc:1061: Starting in XGBoost 1.3.0, the default evaluation metric used with the objective 'binary:logistic' was changed from 'error' to 'logloss'. Explicitly set eval_metric if you'd like to restore the old behavior.\n",
      "[13:46:00] WARNING: C:/Users/Administrator/workspace/xgboost-win64_release_1.3.0/src/learner.cc:1061: Starting in XGBoost 1.3.0, the default evaluation metric used with the objective 'binary:logistic' was changed from 'error' to 'logloss'. Explicitly set eval_metric if you'd like to restore the old behavior.\n",
      "[13:46:01] WARNING: C:/Users/Administrator/workspace/xgboost-win64_release_1.3.0/src/learner.cc:1061: Starting in XGBoost 1.3.0, the default evaluation metric used with the objective 'binary:logistic' was changed from 'error' to 'logloss'. Explicitly set eval_metric if you'd like to restore the old behavior.\n",
      "[13:46:01] WARNING: C:/Users/Administrator/workspace/xgboost-win64_release_1.3.0/src/learner.cc:1061: Starting in XGBoost 1.3.0, the default evaluation metric used with the objective 'binary:logistic' was changed from 'error' to 'logloss'. Explicitly set eval_metric if you'd like to restore the old behavior.\n",
      "[13:46:02] WARNING: C:/Users/Administrator/workspace/xgboost-win64_release_1.3.0/src/learner.cc:1061: Starting in XGBoost 1.3.0, the default evaluation metric used with the objective 'binary:logistic' was changed from 'error' to 'logloss'. Explicitly set eval_metric if you'd like to restore the old behavior.\n"
     ]
    }
   ],
   "source": [
    "# Finding cross-validation score of XGB model \n",
    "\n",
    "\n",
    "from xgboost import XGBClassifier\n",
    "\n",
    "XGB = XGBClassifier()\n",
    "\n",
    "scores = cross_val_score(XGB, X_train, y_train, scoring = \"neg_log_loss\", cv = 10)\n",
    "\n",
    "XGB_LL_scores = -scores\n",
    "\n",
    "XGB_evaluation = XGB_LL_scores.mean()"
   ]
  },
  {
   "cell_type": "code",
   "execution_count": 109,
   "metadata": {},
   "outputs": [
    {
     "name": "stdout",
     "output_type": "stream",
     "text": [
      "0.006260251513795813\n",
      "0.0003996174421006159\n",
      "0.0005804067898948363\n",
      "\n",
      "\n",
      "The Random Forest model had the lowest log-loss score of 0.0003996174421006159.\n"
     ]
    }
   ],
   "source": [
    "# Compare the log-loss values of the three models\n",
    "\n",
    "print(LR_evaluation)\n",
    "print(RF_evaluation)\n",
    "print(XGB_evaluation)\n",
    "print(\"\\n\")\n",
    "\n",
    "evaluations = {\"Logistic Regression\" : LR_evaluation,\n",
    "              \"Random Forest\" : RF_evaluation,\n",
    "              \"XG Boost\" : XGB_evaluation}\n",
    "\n",
    "print(f'The {min(evaluations, key = evaluations.get)} model had the lowest log-loss score of {evaluations[min(evaluations.keys(), key = (lambda k: evaluations[k]))]}.')\n"
   ]
  },
  {
   "cell_type": "markdown",
   "metadata": {},
   "source": [
    "The Random Forest model will now be tuned to minimize false negative rates, to circumvent misclassification of poisonous mushrooms as edible mushrooms. This will be done by maximizing sensetivity, as increasing sensetivity increases true positive rates, meaning that the model will maximize the ability to correctly predict that the mushroom is poisonous, even if it leads to the model sometimes misclassifying edible mushrooms as poisonous.\n",
    "\n",
    "Equation of sensitivity is TP/(TP + FN). Sensitivity is maximized by maximizing the model's true positive rate and minimizing the false negative rate."
   ]
  },
  {
   "cell_type": "markdown",
   "metadata": {},
   "source": [
    "# Step 2: Tuning the model"
   ]
  },
  {
   "cell_type": "markdown",
   "metadata": {},
   "source": [
    "RandomizedSearch will be used to tune the model "
   ]
  },
  {
   "cell_type": "code",
   "execution_count": 112,
   "metadata": {},
   "outputs": [],
   "source": [
    "from sklearn.model_selection import RandomizedSearchCV\n",
    "\n",
    "############# Credit of subsequent code goes to the writer of:                                                                 ###############\n",
    "############# https://towardsdatascience.com/hyperparameter-tuning-the-random-forest-in-python-using-scikit-learn-28d2aa77dd74 ###############\n",
    "\n",
    "\n",
    "# Number of estimators\n",
    "n_estimators = [int(x) for x in np.linspace(start = 200, stop = 2000, num = 10)]\n",
    "# Number of features to consider at every split\n",
    "max_features = ['auto', 'sqrt']\n",
    "# Maximum number of levels in estimator\n",
    "max_depth = [int(x) for x in np.linspace(10, 110, num = 11)]\n",
    "max_depth.append(None)\n",
    "# Minimum number of samples required to split a node\n",
    "min_samples_split = [2, 5, 10]\n",
    "# Minimum number of samples required at each leaf node\n",
    "min_samples_leaf = [1, 2, 4]\n",
    "# Method of selecting samples for training each tree\n",
    "bootstrap = [True, False]\n",
    "\n",
    "\n",
    "# Generate grid\n",
    "random_grid = {'n_estimators': n_estimators,\n",
    "               'max_features': max_features,\n",
    "               'max_depth': max_depth,\n",
    "               'min_samples_split': min_samples_split,\n",
    "               'min_samples_leaf': min_samples_leaf,\n",
    "               'bootstrap': bootstrap}"
   ]
  },
  {
   "cell_type": "code",
   "execution_count": null,
   "metadata": {},
   "outputs": [],
   "source": [
    "# Initiate RandomizedSearch Cross validation\n",
    "\n",
    "rf_random = RandomizedSearchCV(estimator = RF, param_distributions = random_grid, scoring = \"recall\",\n",
    "                               n_iter = 10, cv = 10, verbose=1, random_state=42, n_jobs = 1)\n",
    "\n",
    "# Fit the RandomizedSearch algorithm to the dataset\n",
    "\n",
    "rf_random.fit(X_train, y_train)"
   ]
  },
  {
   "cell_type": "code",
   "execution_count": 119,
   "metadata": {},
   "outputs": [
    {
     "data": {
      "text/plain": [
       "{'n_estimators': 200,\n",
       " 'min_samples_split': 10,\n",
       " 'min_samples_leaf': 2,\n",
       " 'max_features': 'sqrt',\n",
       " 'max_depth': 50,\n",
       " 'bootstrap': True}"
      ]
     },
     "execution_count": 119,
     "metadata": {},
     "output_type": "execute_result"
    }
   ],
   "source": [
    "rf_random.best_params_"
   ]
  },
  {
   "cell_type": "code",
   "execution_count": 161,
   "metadata": {},
   "outputs": [
    {
     "name": "stdout",
     "output_type": "stream",
     "text": [
      "Base Model: \n",
      "##### Model Evaluation #####\n",
      "sensitivity:  1.0\n",
      "accuracy:  100.0\n",
      "number of classification errors:  0\n",
      "\n",
      "\n",
      "Tuned Model: \n",
      "##### Model Evaluation #####\n",
      "sensitivity:  1.0\n",
      "accuracy:  100.0\n",
      "number of classification errors:  0\n"
     ]
    }
   ],
   "source": [
    "# Compare the sensitivity (recall) of the base model and the tuned model\n",
    "from sklearn.metrics import recall_score\n",
    "\n",
    "def evaluate_model(model, test_features, test_labels):\n",
    "    predictions = model.predict(test_features)\n",
    "    sensitivity = recall_score(test_labels, predictions)\n",
    "    errors = abs(predictions - test_labels)\n",
    "    mape = 100 * np.mean(errors / test_labels)\n",
    "    accuracy = 100 - mape\n",
    "    print(\"##### Model Evaluation #####\")\n",
    "    print(\"sensitivity: \", sensitivity)\n",
    "    print(\"accuracy: \", accuracy)\n",
    "    print(\"number of classification errors: \",errors.sum())\n",
    "    return None\n",
    "          \n",
    "base_model = RandomForestClassifier()\n",
    "base_model.fit(X_train, y_train)\n",
    "\n",
    "# Evaluation of base model\n",
    "print(\"Base Model: \")\n",
    "evaluate_model(base_model, X_test, y_test)\n",
    "\n",
    "\n",
    "# Using the cross validated model with highest recall\n",
    "tuned_model = rf_random.best_estimator_\n",
    "\n",
    "# Evaluation of the tuned model\n",
    "print(\"\\n\")\n",
    "print(\"Tuned Model: \")\n",
    "evaluate_model(tuned_model, X_test, y_test)\n",
    "\n",
    "          "
   ]
  },
  {
   "cell_type": "code",
   "execution_count": 157,
   "metadata": {},
   "outputs": [
    {
     "data": {
      "image/png": "[encoded data removed]",
      "text/plain": [
       "<Figure size 432x288 with 1 Axes>"
      ]
     },
     "metadata": {
      "needs_background": "light"
     },
     "output_type": "display_data"
    }
   ],
   "source": [
    "# Finding the top 10 most important features for classification\n",
    "\n",
    "features = list(X_test.columns)\n",
    "importances = tuned_model.feature_importances_\n",
    "indices = np.argsort(importances)\n",
    "indices = indices[0:10]\n",
    "\n",
    "plt.title('Feature Importances')\n",
    "plt.barh(range(len(indices)), importances[indices], color='b', align='center')\n",
    "plt.yticks(range(len(indices)), [features[i] for i in indices])\n",
    "plt.xlabel('Relative Importance')\n",
    "plt.show()"
   ]
  },
  {
   "cell_type": "markdown",
   "metadata": {},
   "source": [
    "# Conclusion"
   ]
  },
  {
   "cell_type": "markdown",
   "metadata": {},
   "source": [
    "The sensitivity and accuracy for my models both before and after parameter tuning unfortunately ended up being a hundred percent. This is a very rare phenomenon in machine learning, and should be a red flag for overfitting or incorrect procedures in 99% of the cases. However, this is a very rare case in which the dataset yields extremely accurate models given proper procedures. I believe this is the case due to three reasons:\n",
    "\n",
    "1. The author for the write-up for this dataset mentions that models have reached > 99% accuracy (see Section 1 Step 1).\n",
    "2. The models were already nearing 0 log-loss during the cross-validation phase (see Section 2 Step 1). \n",
    "3. Other works on the same dataset reproduce similar results (see https://datascienceplus.com/mushrooms-classification-part-2/)\n",
    "\n",
    "The unfortunate part is that I could not explore finding optimal classification threshold via ROC AUC curve to maximize model sensitivity, because the sensitivity at the default classification threshold of p = 0.5 already reached 1. Nevertheless, I hope the intuition for why maximizing sensitivity, or recall, was well communicated. From the perspective of the consumer using this model to determine whether his/her mushroom is edible or not, misclassifying an edible mushroom as poisonous is much prefered over misclassifying a poisonous mushroom as an edible one.\n",
    "\n",
    "However, some interesting information about mushrooms were uncovered through this project. For example, nine out of the ten features that impacted classification the most on the tuned model were about colors. From this, I can infer that colors are an important signal for determining safety of mushroom consumption. Also, from the EDA I discovered that every mushroom with its smell described as \"foul\" was poisonous. These findings emphasize the importance of using scent and vision to classify what is edible and what is not. \n"
   ]
  },
  {
   "cell_type": "markdown",
   "metadata": {},
   "source": [
    "Future projects with mushroom classifications can include collecting and including more features, or training a neural network with images of different mushrooms and classifying their species as well as their toxicity. "
   ]
  }
 ],
 "metadata": {
  "kernelspec": {
   "display_name": "Python 3",
   "language": "python",
   "name": "python3"
  },
  "language_info": {
   "codemirror_mode": {
    "name": "ipython",
    "version": 3
   },
   "file_extension": ".py",
   "mimetype": "text/x-python",
   "name": "python",
   "nbconvert_exporter": "python",
   "pygments_lexer": "ipython3",
   "version": "3.7.6"
  }
 },
 "nbformat": 4,
 "nbformat_minor": 4
}
